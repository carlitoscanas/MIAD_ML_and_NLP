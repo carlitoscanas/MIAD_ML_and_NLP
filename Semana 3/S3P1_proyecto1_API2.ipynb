{
 "cells": [
  {
   "cell_type": "markdown",
   "metadata": {},
   "source": [
    "![image info](https://raw.githubusercontent.com/albahnsen/MIAD_ML_and_NLP/main/images/banner_1.png)"
   ]
  },
  {
   "cell_type": "markdown",
   "metadata": {},
   "source": [
    "# Proyecto 1 - Predicción de precios de vehículos usados\n",
    "\n",
    "En este proyecto podrán poner en práctica sus conocimientos sobre modelos predictivos basados en árboles y ensambles, y sobre la disponibilización de modelos. Para su desasrrollo tengan en cuenta las instrucciones dadas en la \"Guía del proyecto 1: Predicción de precios de vehículos usados\".\n",
    "\n",
    "**Entrega**: La entrega del proyecto deberán realizarla durante la semana 4. Sin embargo, es importante que avancen en la semana 3 en el modelado del problema y en parte del informe, tal y como se les indicó en la guía.\n",
    "\n",
    "Para hacer la entrega, deberán adjuntar el informe autocontenido en PDF a la actividad de entrega del proyecto que encontrarán en la semana 4, y subir el archivo de predicciones a la [competencia de Kaggle](https://www.kaggle.com/t/4bd64c1deb3c4ffb8ca7ff93c1f1497d)."
   ]
  },
  {
   "cell_type": "markdown",
   "metadata": {},
   "source": [
    "## Datos para la predicción de precios de vehículos usados\n",
    "\n",
    "En este proyecto se usará el conjunto de datos de Car Listings de Kaggle, donde cada observación representa el precio de un automóvil teniendo en cuenta distintas variables como: año, marca, modelo, entre otras. El objetivo es predecir el precio del automóvil. Para más detalles puede visitar el siguiente enlace: [datos](https://www.kaggle.com/jpayne/852k-used-car-listings)."
   ]
  },
  {
   "cell_type": "markdown",
   "metadata": {},
   "source": [
    "## Ejemplo predicción conjunto de test para envío a Kaggle\n",
    "\n",
    "En esta sección encontrarán el formato en el que deben guardar los resultados de la predicción para que puedan subirlos a la competencia en Kaggle."
   ]
  },
  {
   "cell_type": "code",
   "execution_count": 1,
   "metadata": {},
   "outputs": [
    {
     "data": {
      "text/plain": [
       "array([31903.775], dtype=float32)"
      ]
     },
     "execution_count": 1,
     "metadata": {},
     "output_type": "execute_result"
    }
   ],
   "source": [
    "# Importar modelo y predicción\n",
    "from model_deployment.cp_model_deployment import pred_car_price\n",
    "\n",
    "# Predicción de probabilidad\n",
    "pred_car_price(2014,31909,20,26,305) #31903.775"
   ]
  },
  {
   "cell_type": "code",
   "execution_count": 2,
   "metadata": {},
   "outputs": [
    {
     "name": "stdout",
     "output_type": "stream",
     "text": [
      " * Serving Flask app \"__main__\" (lazy loading)\n",
      " * Environment: production\n",
      "\u001b[31m   WARNING: This is a development server. Do not use it in a production deployment.\u001b[0m\n",
      "\u001b[2m   Use a production WSGI server instead.\u001b[0m\n",
      " * Debug mode: on\n"
     ]
    },
    {
     "name": "stderr",
     "output_type": "stream",
     "text": [
      " * Running on all addresses.\n",
      "   WARNING: This is a development server. Do not use it in a production deployment.\n",
      " * Running on http://192.168.1.4:8888/ (Press CTRL+C to quit)\n",
      "192.168.1.4 - - [01/May/2022 17:01:03] \"GET / HTTP/1.1\" 200 -\n",
      "192.168.1.4 - - [01/May/2022 17:01:03] \"GET /swagger.json HTTP/1.1\" 200 -\n",
      "192.168.1.4 - - [01/May/2022 17:01:17] \"GET / HTTP/1.1\" 200 -\n",
      "192.168.1.4 - - [01/May/2022 17:01:17] \"GET /swaggerui/swagger-ui-bundle.js HTTP/1.1\" 200 -\n",
      "192.168.1.4 - - [01/May/2022 17:01:17] \"GET /swaggerui/droid-sans.css HTTP/1.1\" 200 -\n",
      "192.168.1.4 - - [01/May/2022 17:01:17] \"GET /swaggerui/swagger-ui.css HTTP/1.1\" 200 -\n",
      "192.168.1.4 - - [01/May/2022 17:01:17] \"GET /swaggerui/swagger-ui-standalone-preset.js HTTP/1.1\" 200 -\n",
      "192.168.1.4 - - [01/May/2022 17:01:17] \"GET /swagger.json HTTP/1.1\" 200 -\n",
      "192.168.1.4 - - [01/May/2022 17:01:17] \"GET /swaggerui/favicon-32x32.png HTTP/1.1\" 200 -\n",
      "192.168.1.4 - - [01/May/2022 17:01:54] \"GET /predict/?Year=2014&Mileage=31909&State=20&Make=26&Model=305 HTTP/1.1\" 200 -\n",
      "192.168.1.4 - - [01/May/2022 17:07:29] \"GET /predict/?Year=2017&Mileage=5362&State=9&Make=16&Model=489 HTTP/1.1\" 200 -\n"
     ]
    }
   ],
   "source": [
    "#!/usr/bin/python\n",
    "from flask import Flask\n",
    "from flask_restx import Api, Resource, fields\n",
    "import joblib\n",
    "from model_deployment.cp_model_deployment import pred_car_price\n",
    "\n",
    "app = Flask(__name__)\n",
    "\n",
    "api = Api(\n",
    "    app,\n",
    "    version='1.0',\n",
    "    title='Car Price Prediction API',\n",
    "    description='Car Price Prediction API')\n",
    "\n",
    "ns = api.namespace('predict',\n",
    "     description='Car Price Regressor')\n",
    "\n",
    "parser = api.parser()\n",
    "\n",
    "parser.add_argument(\n",
    "    'Year',\n",
    "    type=float,\n",
    "    required=True,\n",
    "    help='Year of the car',\n",
    "    location='args')\n",
    "\n",
    "parser.add_argument(\n",
    "    'Mileage',\n",
    "    type=float,\n",
    "    required=True,\n",
    "    help='Mileage of the car',\n",
    "    location='args')\n",
    "\n",
    "parser.add_argument(\n",
    "    'State',\n",
    "    type=float,\n",
    "    required=True,\n",
    "    help='State of the car',\n",
    "    location='args')\n",
    "\n",
    "parser.add_argument(\n",
    "    'Make',\n",
    "    type=float,\n",
    "    required=True,\n",
    "    help='Make of the car',\n",
    "    location='args')\n",
    "\n",
    "parser.add_argument(\n",
    "    'Model',\n",
    "    type=float,\n",
    "    required=True,\n",
    "    help='Model of the car',\n",
    "    location='args')\n",
    "\n",
    "resource_fields = api.model('Resource', {\n",
    "    'result': fields.Float,\n",
    "})\n",
    "\n",
    "@ns.route('/')\n",
    "class CarPriceApi(Resource):\n",
    "\n",
    "    @api.doc(parser=parser)\n",
    "    @api.marshal_with(resource_fields)\n",
    "    def get(self):\n",
    "        args = parser.parse_args()\n",
    "\n",
    "        return {\n",
    "         \"result\": pred_car_price(args['Year'],args['Mileage'],args['State'],args['Make'],args['Model'])\n",
    "        }, 200\n",
    "\n",
    "if __name__ == '__main__':\n",
    "    app.run(debug=True, use_reloader=False, host='0.0.0.0', port=8888)"
   ]
  }
 ],
 "metadata": {
  "kernelspec": {
   "display_name": "Python 3 (ipykernel)",
   "language": "python",
   "name": "python3"
  },
  "language_info": {
   "codemirror_mode": {
    "name": "ipython",
    "version": 3
   },
   "file_extension": ".py",
   "mimetype": "text/x-python",
   "name": "python",
   "nbconvert_exporter": "python",
   "pygments_lexer": "ipython3",
   "version": "3.9.7"
  }
 },
 "nbformat": 4,
 "nbformat_minor": 4
}
